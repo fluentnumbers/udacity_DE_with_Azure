{
 "cells": [
  {
   "cell_type": "code",
   "execution_count": 0,
   "metadata": {
    "application/vnd.databricks.v1+cell": {
     "cellMetadata": {
      "byteLimit": 2048000,
      "rowLimit": 10000
     },
     "inputWidgets": {},
     "nuid": "a34250ab-22d8-4141-8ed0-5102464e0a52",
     "showTitle": false,
     "title": ""
    }
   },
   "outputs": [
    {
     "output_type": "stream",
     "name": "stdout",
     "output_type": "stream",
     "text": [
      "Out[72]: DataFrame[num_affected_rows: bigint, num_inserted_rows: bigint]"
     ]
    }
   ],
   "source": [
    "spark.sql(\"\"\"\n",
    "    CREATE OR REPLACE TABLE payment\n",
    "    USING DELTA \n",
    "    AS\n",
    "    SELECT \n",
    "        CAST(_c0 AS BIGINT) AS payment_id,\n",
    "        CAST(_c1 AS TIMESTAMP) AS date,\n",
    "        CAST(_c2 AS FLOAT) AS amount,\n",
    "        CAST(_c3 AS BIGINT) AS rider_id\n",
    "    FROM delta.`/bronze/payments`\n",
    "\"\"\")\n",
    "\n",
    "spark.sql(\"\"\"\n",
    "    CREATE OR REPLACE TABLE station\n",
    "    USING DELTA \n",
    "    AS\n",
    "    SELECT \n",
    "        CAST(_c0 AS BIGINT) AS station_id,\n",
    "        _c1 AS name,\n",
    "        CAST(_c2 AS FLOAT) AS latitude,\n",
    "        CAST(_c3 AS FLOAT) AS longitude\n",
    "    FROM delta.`/bronze/stations`\n",
    "\"\"\")\n",
    "\n",
    "spark.sql(\"\"\"\n",
    "    CREATE OR REPLACE TABLE rider\n",
    "    USING DELTA \n",
    "    AS\n",
    "    SELECT \n",
    "        CAST(_c0 AS BIGINT) AS rider_id,\n",
    "        _c1 AS `first`,\n",
    "        _c2 AS `last`,\n",
    "        _c3 AS address,\n",
    "        CAST(_c4 AS TIMESTAMP) AS birthday,\n",
    "        CAST(_c5 AS TIMESTAMP) AS account_start_date,\n",
    "        CAST(_c6 AS TIMESTAMP) AS account_end_date,\n",
    "        CASE WHEN _c7 = 'True' THEN TRUE ELSE FALSE END AS is_member\n",
    "    FROM delta.`/bronze/riders`\n",
    "\"\"\")\n",
    "\n",
    "spark.sql(\"\"\"\n",
    "    CREATE OR REPLACE TABLE trip\n",
    "    USING DELTA \n",
    "    AS\n",
    "    SELECT \n",
    "        CAST(_c0 AS BIGINT) AS trip_id,\n",
    "        _c1 AS rideable_type,\n",
    "        CAST(_c2 AS TIMESTAMP) AS started_at,\n",
    "        CAST(_c3 AS TIMESTAMP) AS ended_at,\n",
    "        CAST(_c4 AS BIGINT) AS start_station_id,\n",
    "        CAST(_c5 AS BIGINT) AS end_station_id,\n",
    "        CAST(_c6 AS BIGINT) AS rider_id\n",
    "    FROM delta.`/bronze/trips`\n",
    "\"\"\")\n"
   ]
  },
  {
   "cell_type": "code",
   "execution_count": 0,
   "metadata": {
    "application/vnd.databricks.v1+cell": {
     "cellMetadata": {
      "byteLimit": 2048000,
      "rowLimit": 10000
     },
     "inputWidgets": {},
     "nuid": "3717c27d-5f30-4781-83b5-8802278cfabf",
     "showTitle": false,
     "title": ""
    }
   },
   "outputs": [
    {
     "output_type": "stream",
     "name": "stdout",
     "output_type": "stream",
     "text": [
      "Out[65]: DataFrame[]"
     ]
    }
   ],
   "source": [
    "# spark.sql(\"DROP TABLE IF EXISTS payment\")\n",
    "# spark.sql(\"DROP TABLE IF EXISTS trip\")\n",
    "# spark.sql(\"DROP TABLE IF EXISTS rider\")\n",
    "# spark.sql(\"DROP TABLE IF EXISTS station\")"
   ]
  },
  {
   "cell_type": "code",
   "execution_count": 0,
   "metadata": {
    "application/vnd.databricks.v1+cell": {
     "cellMetadata": {
      "byteLimit": 2048000,
      "rowLimit": 10000
     },
     "inputWidgets": {},
     "nuid": "12cf03e5-afff-453d-8d85-1fdcaada6658",
     "showTitle": false,
     "title": ""
    }
   },
   "outputs": [
    {
     "output_type": "display_data",
     "data": {
      "text/html": [
       "<style scoped>\n",
       "  .table-result-container {\n",
       "    max-height: 300px;\n",
       "    overflow: auto;\n",
       "  }\n",
       "  table, th, td {\n",
       "    border: 1px solid black;\n",
       "    border-collapse: collapse;\n",
       "  }\n",
       "  th, td {\n",
       "    padding: 5px;\n",
       "  }\n",
       "  th {\n",
       "    text-align: left;\n",
       "  }\n",
       "</style><div class='table-result-container'><table class='table-result'><thead style='background-color: white'><tr><th>format</th><th>id</th><th>name</th><th>description</th><th>location</th><th>createdAt</th><th>lastModified</th><th>partitionColumns</th><th>numFiles</th><th>sizeInBytes</th><th>properties</th><th>minReaderVersion</th><th>minWriterVersion</th><th>tableFeatures</th><th>statistics</th></tr></thead><tbody><tr><td>delta</td><td>f2657ad6-7cfb-4801-b81d-5ae5f9a3f035</td><td>spark_catalog.default.station</td><td>null</td><td>dbfs:/user/hive/warehouse/station</td><td>2023-08-14T12:56:29.939+0000</td><td>2023-08-14T12:56:30.000+0000</td><td>List()</td><td>1</td><td>20069</td><td>Map()</td><td>1</td><td>2</td><td>List(appendOnly, invariants)</td><td>Map()</td></tr></tbody></table></div>"
      ]
     },
     "metadata": {
      "application/vnd.databricks.v1+output": {
       "addedWidgets": {},
       "aggData": [],
       "aggError": "",
       "aggOverflow": false,
       "aggSchema": [],
       "aggSeriesLimitReached": false,
       "aggType": "",
       "arguments": {},
       "columnCustomDisplayInfos": {},
       "data": [
        [
         "delta",
         "f2657ad6-7cfb-4801-b81d-5ae5f9a3f035",
         "spark_catalog.default.station",
         null,
         "dbfs:/user/hive/warehouse/station",
         "2023-08-14T12:56:29.939+0000",
         "2023-08-14T12:56:30.000+0000",
         [],
         1,
         20069,
         {},
         1,
         2,
         [
          "appendOnly",
          "invariants"
         ],
         {}
        ]
       ],
       "datasetInfos": [],
       "dbfsResultPath": null,
       "isJsonSchema": true,
       "metadata": {},
       "overflow": false,
       "plotOptions": {
        "customPlotOptions": {},
        "displayType": "table",
        "pivotAggregation": null,
        "pivotColumns": null,
        "xColumns": null,
        "yColumns": null
       },
       "removedWidgets": [],
       "schema": [
        {
         "metadata": "{}",
         "name": "format",
         "type": "\"string\""
        },
        {
         "metadata": "{}",
         "name": "id",
         "type": "\"string\""
        },
        {
         "metadata": "{}",
         "name": "name",
         "type": "\"string\""
        },
        {
         "metadata": "{}",
         "name": "description",
         "type": "\"string\""
        },
        {
         "metadata": "{}",
         "name": "location",
         "type": "\"string\""
        },
        {
         "metadata": "{}",
         "name": "createdAt",
         "type": "\"timestamp\""
        },
        {
         "metadata": "{}",
         "name": "lastModified",
         "type": "\"timestamp\""
        },
        {
         "metadata": "{}",
         "name": "partitionColumns",
         "type": "{\"type\":\"array\",\"elementType\":\"string\",\"containsNull\":true}"
        },
        {
         "metadata": "{}",
         "name": "numFiles",
         "type": "\"long\""
        },
        {
         "metadata": "{}",
         "name": "sizeInBytes",
         "type": "\"long\""
        },
        {
         "metadata": "{}",
         "name": "properties",
         "type": "{\"type\":\"map\",\"keyType\":\"string\",\"valueType\":\"string\",\"valueContainsNull\":true}"
        },
        {
         "metadata": "{}",
         "name": "minReaderVersion",
         "type": "\"integer\""
        },
        {
         "metadata": "{}",
         "name": "minWriterVersion",
         "type": "\"integer\""
        },
        {
         "metadata": "{}",
         "name": "tableFeatures",
         "type": "{\"type\":\"array\",\"elementType\":\"string\",\"containsNull\":true}"
        },
        {
         "metadata": "{}",
         "name": "statistics",
         "type": "{\"type\":\"map\",\"keyType\":\"string\",\"valueType\":\"long\",\"valueContainsNull\":true}"
        }
       ],
       "type": "table"
      }
     },
     "output_type": "display_data"
    },
    {
     "output_type": "stream",
     "name": "stdout",
     "output_type": "stream",
     "text": [
      "+-------+--------+---------+--------------------+-------------------+-------------------+-------------------+---------+\n|trip_id|   first|     last|             address|           birthday| account_start_date|   account_end_date|is_member|\n+-------+--------+---------+--------------------+-------------------+-------------------+-------------------+---------+\n|   1000|   Diana|    Clark| 1200 Alyssa Squares|1989-02-13 00:00:00|2019-04-23 00:00:00|               null|     true|\n|   1001|Jennifer|    Smith|     397 Diana Ferry|1976-08-10 00:00:00|2019-11-01 00:00:00|2020-09-01 00:00:00|     true|\n|   1002|   Karen|    Smith|644 Brittany Row ...|1998-08-10 00:00:00|2022-02-04 00:00:00|               null|     true|\n|   1003|   Bryan|  Roberts|996 Dickerson Tur...|1999-03-29 00:00:00|2019-08-26 00:00:00|               null|    false|\n|   1004|   Jesse|Middleton|7009 Nathan Expre...|1969-04-11 00:00:00|2019-09-14 00:00:00|               null|     true|\n+-------+--------+---------+--------------------+-------------------+-------------------+-------------------+---------+\n\n"
     ]
    }
   ],
   "source": [
    "# show all tables in the database\n",
    "spark.catalog.listTables(spark.catalog.listDatabases()[0].name)\n",
    "# describe one table\n",
    "display(spark.sql('DESCRIBE DETAIL station'))\n",
    "# display some data\n",
    "spark.sql(\"SELECT * FROM rider LIMIT 5\").show()\n"
   ]
  }
 ],
 "metadata": {
  "application/vnd.databricks.v1+notebook": {
   "dashboards": [],
   "language": "python",
   "notebookMetadata": {
    "mostRecentlyExecutedCommandWithImplicitDF": {
     "commandId": 1827523987962491,
     "dataframes": [
      "_sqldf"
     ]
    },
    "pythonIndentUnit": 4
   },
   "notebookName": "LOAD",
   "widgets": {}
  }
 },
 "nbformat": 4,
 "nbformat_minor": 0
}
